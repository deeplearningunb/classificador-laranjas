{
 "cells": [
  {
   "cell_type": "markdown",
   "metadata": {},
   "source": [
    "# Classificador de Laranjas -  Módulo de Aprendizado de Máquina"
   ]
  },
  {
   "cell_type": "markdown",
   "metadata": {},
   "source": [
    "### 1. Importando as Dependências"
   ]
  },
  {
   "cell_type": "code",
   "execution_count": 1,
   "metadata": {},
   "outputs": [],
   "source": [
    "import numpy as np \n",
    "import pandas as pd\n",
    "import os\n",
    "import cv2\n",
    "import pickle\n",
    "import keras\n",
    "from tqdm import tqdm\n",
    "from random import shuffle\n",
    "import tensorflow as tf\n",
    "import matplotlib.pyplot as plt\n",
    "from keras.utils  import to_categorical\n",
    "from keras.models import Sequential\n",
    "from keras.models import Model, load_model\n",
    "from keras.layers import Dense,Dropout, Conv2D,MaxPooling2D , Activation, Flatten, BatchNormalization, SeparableConv2D"
   ]
  },
  {
   "cell_type": "markdown",
   "metadata": {},
   "source": [
    "### 2. Verificando Presença de uma GPU\n",
    "O código abaixo realiza uma breve vericação no computador que está executando o código, vendo se este possui placa gráfica que esteja disponível para uso, caso haja, ele usará a mesma para o treinamento do modelo de dados, caso contrário, ele fará uso do processador da máquina para tal."
   ]
  },
  {
   "cell_type": "code",
   "execution_count": 2,
   "metadata": {},
   "outputs": [
    {
     "name": "stdout",
     "output_type": "stream",
     "text": [
      "/Users/guilherme/Desktop/UnB/DL/classificador-laranjas\n",
      "Num GPUs Available:  [PhysicalDevice(name='/physical_device:CPU:0', device_type='CPU'), PhysicalDevice(name='/physical_device:XLA_CPU:0', device_type='XLA_CPU')]\n"
     ]
    }
   ],
   "source": [
    "!pwd\n",
    "tf\n",
    "print(\"Num GPUs Available: \", tf.config.experimental.list_physical_devices())\n",
    "#???"
   ]
  },
  {
   "cell_type": "markdown",
   "metadata": {},
   "source": [
    "### 3. Tratamento dos dados, utilizando visão computacional\n",
    "Nesta função utlizamos o OpenCV, uma biblioteca de visão computacional, onde fazemos uso da função cvtColor(), função essa que converte uma imagem de um espaço de cores para outro. Também redimensionamos a imagem pra 100x100p, após fazer o carregamento desta. "
   ]
  },
  {
   "cell_type": "code",
   "execution_count": 3,
   "metadata": {},
   "outputs": [
    {
     "name": "stderr",
     "output_type": "stream",
     "text": [
      "\r",
      "  0%|          | 0/3 [00:00<?, ?it/s]"
     ]
    },
    {
     "name": "stdout",
     "output_type": "stream",
     "text": [
      "freshoranges\n",
      "./archive/dataset/train/freshoranges\n",
      "saltandpepper_Screen Shot 2018-06-12 at 11.55.42 PM.png\n",
      "rotated_by_30_Screen Shot 2018-06-12 at 11.56.55 PM.png\n",
      "saltandpepper_Screen Shot 2018-06-13 at 12.18.40 AM.png\n",
      "rotated_by_30_Screen Shot 2018-06-13 at 12.08.41 AM.png\n",
      "Screen Shot 2018-06-13 at 12.16.16 AM.png\n",
      "rotated_by_60_Screen Shot 2018-06-13 at 12.04.01 AM.png\n",
      "saltandpepper_Screen Shot 2018-06-13 at 12.10.45 AM.png\n",
      "saltandpepper_Screen Shot 2018-06-13 at 12.04.34 AM.png\n",
      "rotated_by_30_Screen Shot 2018-06-12 at 11.52.03 PM.png\n"
     ]
    },
    {
     "name": "stderr",
     "output_type": "stream",
     "text": [
      "\r",
      " 33%|███▎      | 1/3 [00:00<00:00,  3.40it/s]"
     ]
    },
    {
     "name": "stdout",
     "output_type": "stream",
     "text": [
      "saltandpepper_Screen Shot 2018-06-13 at 12.07.05 AM.png\n",
      "Screen Shot 2018-06-13 at 12.15.27 AM.png\n",
      "rotated_by_30_Screen Shot 2018-06-13 at 12.04.12 AM.png\n",
      "rotated_by_45_Screen Shot 2018-06-12 at 11.59.54 PM.png\n",
      "lessorange\n",
      "./archive/dataset/train/lessorange\n",
      "aug_3323.jpg\n",
      "aug_1534.jpg\n",
      "aug_1252.jpg\n",
      "aug_2983.jpg\n",
      "aug_2997.jpg\n",
      "aug_1246.jpg\n",
      "aug_1520.jpg\n",
      "aug_2029.jpg\n",
      "aug_3337.jpg\n",
      "aug_1508.jpg\n",
      "aug_2001.jpg\n",
      "aug_2767.jpg\n"
     ]
    },
    {
     "name": "stderr",
     "output_type": "stream",
     "text": [
      "100%|██████████| 3/3 [00:01<00:00,  1.53it/s]"
     ]
    },
    {
     "name": "stdout",
     "output_type": "stream",
     "text": [
      "aug_2773.jpg\n",
      "rottenoranges\n",
      "./archive/dataset/train/rottenoranges\n",
      "rotated_by_30_Screen Shot 2018-06-12 at 11.37.58 PM.png\n",
      "rotated_by_75_Screen Shot 2018-06-12 at 11.31.52 PM.png\n",
      "rotated_by_30_Screen Shot 2018-06-12 at 11.23.29 PM.png\n",
      "rotated_by_60_Screen Shot 2018-06-12 at 11.37.36 PM.png\n",
      "rotated_by_75_Screen Shot 2018-06-12 at 11.43.49 PM.png\n",
      "rotated_by_15_Screen Shot 2018-06-12 at 11.45.33 PM.png\n",
      "Screen Shot 2018-06-12 at 11.43.36 PM.png\n",
      "rotated_by_60_Screen Shot 2018-06-12 at 11.34.07 PM.png\n",
      "rotated_by_30_Screen Shot 2018-06-12 at 11.37.25 PM.png\n",
      "rotated_by_15_Screen Shot 2018-06-12 at 11.23.24 PM.png\n",
      "rotated_by_30_Screen Shot 2018-06-12 at 11.23.54 PM.png\n",
      "saltandpepper_Screen Shot 2018-06-12 at 11.33.55 PM.png\n",
      "rotated_by_75_Screen Shot 2018-06-12 at 11.26.12 PM.png\n"
     ]
    },
    {
     "name": "stderr",
     "output_type": "stream",
     "text": [
      "\n"
     ]
    }
   ],
   "source": [
    "def load_rand():\n",
    "    X=[]\n",
    "    dir_path='./archive/dataset/train' #Diretorio dos dados de treinamento\n",
    "    for sub_dir in tqdm(os.listdir(dir_path)):\n",
    "        print(sub_dir)\n",
    "        path_main=os.path.join(dir_path,sub_dir) #rottenoranges vs freshoranges\n",
    "        print(path_main)\n",
    "        i=0\n",
    "        for img_name in os.listdir(path_main): #Loop in each directory ['fresh', 'rotten']\n",
    "            print(img_name)\n",
    "            if i>=12: #Read 18 images each directory (36 in total)\n",
    "                break\n",
    "            img=cv2.imread(os.path.join(path_main,img_name)) #read image\n",
    "            img=cv2.resize(img,(100,100)) #resize image 100x100 pixels\n",
    "            img=cv2.cvtColor(img,cv2.COLOR_BGR2RGB) #convert image\n",
    "            X.append(img)\n",
    "            i+=1\n",
    "    return X\n",
    "\n",
    "X=load_rand()"
   ]
  },
  {
   "cell_type": "code",
   "execution_count": 4,
   "metadata": {},
   "outputs": [
    {
     "data": {
      "text/plain": [
       "(36, 100, 100, 3)"
      ]
     },
     "execution_count": 4,
     "metadata": {},
     "output_type": "execute_result"
    }
   ],
   "source": [
    "X=np.array(X)\n",
    "X.shape #36 linhas de imagens de 100x100 pixels com profundidade 3 (RGB)\n",
    "#onde R é Vermelho, G é Verde e B é Azul"
   ]
  },
  {
   "cell_type": "markdown",
   "metadata": {},
   "source": [
    "Carrega as imagens e coloca labels para elas"
   ]
  },
  {
   "cell_type": "code",
   "execution_count": 5,
   "metadata": {},
   "outputs": [],
   "source": [
    "def load_rottenvsfresh():\n",
    "    \n",
    "    quality=['fresh', 'rotten', 'less']\n",
    "    \n",
    "    X,Y=[],[]\n",
    "    z=[]\n",
    "    #BOAS SEM MANCHAS -> LABEL 0\n",
    "    #RUINS -> LABEL 1\n",
    "    #BOA COM MANCHAS -> LABEL 2\n",
    "    for cata in tqdm(os.listdir('./archive/dataset/train')):\n",
    "        if quality[0] in cata:\n",
    "            path_main=os.path.join('./archive/dataset/train',cata)\n",
    "            for img_name in os.listdir(path_main):\n",
    "                img=cv2.imread(os.path.join(path_main,img_name))\n",
    "                img=cv2.resize(img,(100,100))\n",
    "                img=cv2.cvtColor(img,cv2.COLOR_BGR2RGB)\n",
    "                z.append([img,0]) #fresh\n",
    "        elif quality[1] in cata:\n",
    "            path_main=os.path.join('./archive/dataset/train',cata)\n",
    "            for img_name in os.listdir(path_main):\n",
    "                img=cv2.imread(os.path.join(path_main,img_name))\n",
    "                img=cv2.resize(img,(100,100))\n",
    "                img=cv2.cvtColor(img,cv2.COLOR_BGR2RGB)\n",
    "                z.append([img,1]) #rotten\n",
    "        else:\n",
    "            path_main=os.path.join('./archive/dataset/train',cata)\n",
    "            for img_name in os.listdir(path_main):\n",
    "                img=cv2.imread(os.path.join(path_main,img_name))\n",
    "                img=cv2.resize(img,(100,100))\n",
    "                img=cv2.cvtColor(img,cv2.COLOR_BGR2RGB)\n",
    "                z.append([img,2]) #less\n",
    "    \n",
    "    shuffle(z)\n",
    "    for images, labels in tqdm(z):\n",
    "        X.append(images);Y.append(labels)\n",
    "    return X,Y"
   ]
  },
  {
   "cell_type": "code",
   "execution_count": 6,
   "metadata": {},
   "outputs": [
    {
     "name": "stderr",
     "output_type": "stream",
     "text": [
      "100%|██████████| 3/3 [03:27<00:00, 69.33s/it]\n",
      "100%|██████████| 5344/5344 [00:00<00:00, 810411.48it/s]\n"
     ]
    }
   ],
   "source": [
    "X,Y=load_rottenvsfresh()"
   ]
  },
  {
   "cell_type": "code",
   "execution_count": 7,
   "metadata": {},
   "outputs": [
    {
     "data": {
      "text/plain": [
       "2    2283\n",
       "1    1595\n",
       "0    1466\n",
       "dtype: int64"
      ]
     },
     "execution_count": 7,
     "metadata": {},
     "output_type": "execute_result"
    }
   ],
   "source": [
    "Y=np.array(Y)\n",
    "X=np.array(X)\n",
    "y_ser=pd.Series(Y)\n",
    "y_ser.value_counts()"
   ]
  },
  {
   "cell_type": "code",
   "execution_count": 8,
   "metadata": {},
   "outputs": [],
   "source": [
    "def load_rottenvsfresh_valset():\n",
    "    quality=['fresh', 'rotten', 'less']\n",
    "    X,Y=[],[]\n",
    "    z=[]\n",
    "    for cata in tqdm(os.listdir('./archive/dataset/test')):\n",
    "        if quality[0] in cata:\n",
    "            path_main=os.path.join('./archive/dataset/test',cata)\n",
    "            for img_name in os.listdir(path_main):\n",
    "                img=cv2.imread(os.path.join(path_main,img_name))\n",
    "                img=cv2.resize(img,(100,100))\n",
    "                img=cv2.cvtColor(img,cv2.COLOR_BGR2RGB)\n",
    "                z.append([img,0])\n",
    "        elif quality[1] in cata:\n",
    "            path_main=os.path.join('./archive/dataset/test',cata)\n",
    "            for img_name in os.listdir(path_main):\n",
    "                img=cv2.imread(os.path.join(path_main,img_name))\n",
    "                img=cv2.resize(img,(100,100))\n",
    "                img=cv2.cvtColor(img,cv2.COLOR_BGR2RGB)\n",
    "                z.append([img,1]) #rotten\n",
    "        else:\n",
    "            path_main=os.path.join('./archive/dataset/test',cata)\n",
    "            for img_name in os.listdir(path_main):\n",
    "                img=cv2.imread(os.path.join(path_main,img_name))\n",
    "                img=cv2.resize(img,(100,100))\n",
    "                img=cv2.cvtColor(img,cv2.COLOR_BGR2RGB)\n",
    "                z.append([img,2]) #less\n",
    "\n",
    "    shuffle(z)\n",
    "    for images, labels in tqdm(z):\n",
    "        X.append(images);Y.append(labels)        \n",
    "    return X,Y      "
   ]
  },
  {
   "cell_type": "code",
   "execution_count": 10,
   "metadata": {},
   "outputs": [
    {
     "name": "stderr",
     "output_type": "stream",
     "text": [
      "100%|██████████| 3/3 [01:44<00:00, 34.69s/it]\n",
      "100%|██████████| 1975/1975 [00:00<00:00, 1213914.19it/s]\n"
     ]
    }
   ],
   "source": [
    "X_val,Y_val=load_rottenvsfresh_valset()"
   ]
  },
  {
   "cell_type": "code",
   "execution_count": 11,
   "metadata": {},
   "outputs": [
    {
     "data": {
      "text/plain": [
       "2    1180\n",
       "1     406\n",
       "0     389\n",
       "dtype: int64"
      ]
     },
     "execution_count": 11,
     "metadata": {},
     "output_type": "execute_result"
    }
   ],
   "source": [
    "Y_val=np.array(Y_val)\n",
    "X_val=np.array(X_val)\n",
    "\n",
    "y_ser=pd.Series(Y_val)\n",
    "y_ser.value_counts()"
   ]
  },
  {
   "cell_type": "markdown",
   "metadata": {},
   "source": [
    " ### 0. Criando e estruturando nossa Rede Neural\n",
    " Neste trecho do código, iniciamos com a definição do modelo como um modelo Sequencial. O modelo sequencial é um modelo que se sobresai quando se trata de uma pilha de camadas simples, tendo cada camada exatamento um tensor de entrada e outro de saída.\n",
    " \n"
   ]
  },
  {
   "cell_type": "code",
   "execution_count": 12,
   "metadata": {},
   "outputs": [
    {
     "name": "stdout",
     "output_type": "stream",
     "text": [
      "Model: \"sequential\"\n",
      "_________________________________________________________________\n",
      "Layer (type)                 Output Shape              Param #   \n",
      "=================================================================\n",
      "conv2d (Conv2D)              (None, 100, 100, 32)      896       \n",
      "_________________________________________________________________\n",
      "batch_normalization (BatchNo (None, 100, 100, 32)      128       \n",
      "_________________________________________________________________\n",
      "separable_conv2d (SeparableC (None, 100, 100, 32)      1344      \n",
      "_________________________________________________________________\n",
      "max_pooling2d (MaxPooling2D) (None, 50, 50, 32)        0         \n",
      "_________________________________________________________________\n",
      "batch_normalization_1 (Batch (None, 50, 50, 32)        128       \n",
      "_________________________________________________________________\n",
      "dropout (Dropout)            (None, 50, 50, 32)        0         \n",
      "_________________________________________________________________\n",
      "separable_conv2d_1 (Separabl (None, 50, 50, 64)        2400      \n",
      "_________________________________________________________________\n",
      "separable_conv2d_2 (Separabl (None, 50, 50, 64)        4736      \n",
      "_________________________________________________________________\n",
      "batch_normalization_2 (Batch (None, 50, 50, 64)        256       \n",
      "_________________________________________________________________\n",
      "max_pooling2d_1 (MaxPooling2 (None, 25, 25, 64)        0         \n",
      "_________________________________________________________________\n",
      "dropout_1 (Dropout)          (None, 25, 25, 64)        0         \n",
      "_________________________________________________________________\n",
      "conv2d_1 (Conv2D)            (None, 25, 25, 128)       73856     \n",
      "_________________________________________________________________\n",
      "conv2d_2 (Conv2D)            (None, 25, 25, 128)       147584    \n",
      "_________________________________________________________________\n",
      "batch_normalization_3 (Batch (None, 25, 25, 128)       512       \n",
      "_________________________________________________________________\n",
      "max_pooling2d_2 (MaxPooling2 (None, 12, 12, 128)       0         \n",
      "_________________________________________________________________\n",
      "dropout_2 (Dropout)          (None, 12, 12, 128)       0         \n",
      "_________________________________________________________________\n",
      "flatten (Flatten)            (None, 18432)             0         \n",
      "_________________________________________________________________\n",
      "dense (Dense)                (None, 128)               2359424   \n",
      "_________________________________________________________________\n",
      "dropout_3 (Dropout)          (None, 128)               0         \n",
      "_________________________________________________________________\n",
      "dense_1 (Dense)              (None, 3)                 387       \n",
      "=================================================================\n",
      "Total params: 2,591,651\n",
      "Trainable params: 2,591,139\n",
      "Non-trainable params: 512\n",
      "_________________________________________________________________\n"
     ]
    }
   ],
   "source": [
    "#Para construir o modelo, precisamos criar a arquitetura usando Sequential().\n",
    "model = Sequential()\n",
    "\n",
    "#Em seguida, adicionamos a primeira camada, uma camada de convolução para extrair \n",
    "#recursos da imagem de entrada e criamos 32 recursos convolutos 3 x 3 ReLu, \n",
    "#também conhecidos como mapas de recursos. Como esta é a primeira camada, devemos inserir a forma \n",
    "#da dimensão que é uma imagem de 100 x 100 pixels com profundidade = 3 (RGB).\n",
    "model.add(Conv2D(32, (3, 3), kernel_initializer='he_uniform', padding='same', \n",
    "                 activation='relu', input_shape=(100,100,3)))\n",
    "\n",
    "model.add(BatchNormalization())\n",
    "model.add(SeparableConv2D(32, (3, 3), kernel_initializer='he_uniform', padding='same', activation='relu'))\n",
    "\n",
    "#A próxima camada será uma camada de pooling com um filtro de 2 x 2 pixels para obter o \n",
    "#elemento máximo dos mapas de feições. Isso reduz a dimensão dos mapas de recursos pela metade e \n",
    "#também é conhecido como subamostragem.\n",
    "model.add(MaxPooling2D((2, 2)))\n",
    "model.add(BatchNormalization())\n",
    "model.add(Dropout(0.3))\n",
    "\n",
    "model.add(SeparableConv2D(64, (3, 3), kernel_initializer='he_uniform', padding='same', activation='relu'))\n",
    "model.add(SeparableConv2D(64, (3, 3), kernel_initializer='he_uniform', padding='same', activation='relu'))\n",
    "model.add(BatchNormalization())\n",
    "model.add(MaxPooling2D((2, 2)))\n",
    "model.add(Dropout(0.4))\n",
    "\n",
    "#Crie mais uma camada de convolução e camada de agrupamento como antes, mas sem o input_shape.\n",
    "model.add(Conv2D(128, (3, 3), kernel_initializer='he_uniform', padding='same', activation='relu'))\n",
    "# model.add(BatchNormalization())\n",
    "model.add(Conv2D(128, (3, 3), kernel_initializer='he_uniform', padding='same', activation='relu'))\n",
    "model.add(BatchNormalization())\n",
    "model.add(MaxPooling2D((2, 2)))\n",
    "model.add(Dropout(0.5))\n",
    "#Adicione uma camada de achatamento para reduzir a imagem a uma matriz linear, \n",
    "#também conhecida como um vetor de dimensão única, para alimentar e conectar-se à rede neural.\n",
    "model.add(Flatten())\n",
    "#model.add(Dense(512, activation='relu', kernel_initializer='he_uniform'))\n",
    "#model.add(Dropout(0.5))\n",
    "#Agora crie uma rede neural onde a primeira camada tem 128 neurônios e a função de ativação ReLu .\n",
    "model.add(Dense(128, activation='relu', kernel_initializer='he_uniform'))\n",
    "#Adicione uma camada de drop out com 30% de drop out.\n",
    "model.add(Dropout(0.3))\n",
    "#Crie a última camada desta rede neural usando a função softmax .\n",
    "model.add(Dense(3, activation='softmax'))\n",
    "\n",
    "model.summary()"
   ]
  },
  {
   "cell_type": "code",
   "execution_count": 13,
   "metadata": {},
   "outputs": [],
   "source": [
    "lr_rate=keras.callbacks.ReduceLROnPlateau(\n",
    "    monitor='val_loss', factor=0.5, patience=6, verbose=2, mode='max',\n",
    "    min_lr=0.00002, cooldown=2)\n",
    "\n",
    "check_point=tf.keras.callbacks.ModelCheckpoint(\n",
    "    filepath='./rottenvs fresh.h5', monitor='val_loss', verbose=1, save_best_only=True,\n",
    "    save_weights_only=False, mode='min')\n",
    "\n",
    "#compile o modelo, binary_crossentropy pois sao apenas 2 classes, otimizador adam e a precisao do modelo como metrica\n",
    "model.compile(loss=keras.losses.sparse_categorical_crossentropy, optimizer = keras.optimizers.Adam(lr = 0.001), metrics=['accuracy'])"
   ]
  },
  {
   "cell_type": "markdown",
   "metadata": {},
   "source": [
    "Para agilização do processo de treinamento, diminuímos a dimensão da imagem, dividindo as matriz pela quantidade de colunas/linhas, visto que se trata de uma matriz quadrada.\n",
    "\n",
    "Feito isso, partimos para a realização do fitting do dataset no modelo desenvolvido."
   ]
  },
  {
   "cell_type": "code",
   "execution_count": 14,
   "metadata": {},
   "outputs": [
    {
     "name": "stdout",
     "output_type": "stream",
     "text": [
      "Epoch 1/25\n",
      "268/268 [==============================] - ETA: 0s - loss: 0.4586 - accuracy: 0.8984\n",
      "Epoch 00001: val_loss improved from inf to 28.41412, saving model to ./rottenvs fresh.h5\n",
      "268/268 [==============================] - 171s 637ms/step - loss: 0.4586 - accuracy: 0.8984 - val_loss: 28.4141 - val_accuracy: 0.5975\n",
      "Epoch 2/25\n",
      "268/268 [==============================] - ETA: 0s - loss: 0.1634 - accuracy: 0.9433\n",
      "Epoch 00002: val_loss improved from 28.41412 to 1.11187, saving model to ./rottenvs fresh.h5\n",
      "268/268 [==============================] - 139s 517ms/step - loss: 0.1634 - accuracy: 0.9433 - val_loss: 1.1119 - val_accuracy: 0.9195\n",
      "Epoch 3/25\n",
      "268/268 [==============================] - ETA: 0s - loss: 0.1757 - accuracy: 0.9397\n",
      "Epoch 00003: val_loss improved from 1.11187 to 0.19695, saving model to ./rottenvs fresh.h5\n",
      "268/268 [==============================] - 141s 527ms/step - loss: 0.1757 - accuracy: 0.9397 - val_loss: 0.1970 - val_accuracy: 0.9727\n",
      "Epoch 4/25\n",
      "268/268 [==============================] - ETA: 0s - loss: 0.1280 - accuracy: 0.9575\n",
      "Epoch 00004: val_loss did not improve from 0.19695\n",
      "268/268 [==============================] - 179s 668ms/step - loss: 0.1280 - accuracy: 0.9575 - val_loss: 0.4144 - val_accuracy: 0.9215\n",
      "Epoch 5/25\n",
      "268/268 [==============================] - ETA: 0s - loss: 0.1225 - accuracy: 0.9605\n",
      "Epoch 00005: val_loss did not improve from 0.19695\n",
      "268/268 [==============================] - 186s 696ms/step - loss: 0.1225 - accuracy: 0.9605 - val_loss: 0.3069 - val_accuracy: 0.9519\n",
      "Epoch 6/25\n",
      "268/268 [==============================] - ETA: 0s - loss: 0.0892 - accuracy: 0.9686\n",
      "Epoch 00006: val_loss improved from 0.19695 to 0.19437, saving model to ./rottenvs fresh.h5\n",
      "268/268 [==============================] - 181s 675ms/step - loss: 0.0892 - accuracy: 0.9686 - val_loss: 0.1944 - val_accuracy: 0.9722\n",
      "Epoch 7/25\n",
      "268/268 [==============================] - ETA: 0s - loss: 0.1568 - accuracy: 0.9519\n",
      "Epoch 00007: val_loss did not improve from 0.19437\n",
      "268/268 [==============================] - 184s 686ms/step - loss: 0.1568 - accuracy: 0.9519 - val_loss: 0.2293 - val_accuracy: 0.9387\n",
      "Epoch 8/25\n",
      "268/268 [==============================] - ETA: 0s - loss: 0.0913 - accuracy: 0.9719\n",
      "Epoch 00008: val_loss improved from 0.19437 to 0.16145, saving model to ./rottenvs fresh.h5\n",
      "268/268 [==============================] - 182s 678ms/step - loss: 0.0913 - accuracy: 0.9719 - val_loss: 0.1614 - val_accuracy: 0.9787\n",
      "Epoch 9/25\n",
      "268/268 [==============================] - ETA: 0s - loss: 0.0966 - accuracy: 0.9674\n",
      "Epoch 00009: val_loss improved from 0.16145 to 0.12932, saving model to ./rottenvs fresh.h5\n",
      "268/268 [==============================] - 194s 724ms/step - loss: 0.0966 - accuracy: 0.9674 - val_loss: 0.1293 - val_accuracy: 0.9843\n",
      "Epoch 10/25\n",
      "268/268 [==============================] - ETA: 0s - loss: 0.0651 - accuracy: 0.9783\n",
      "Epoch 00010: val_loss did not improve from 0.12932\n",
      "268/268 [==============================] - 174s 648ms/step - loss: 0.0651 - accuracy: 0.9783 - val_loss: 0.1424 - val_accuracy: 0.9808\n",
      "Epoch 11/25\n",
      "268/268 [==============================] - ETA: 0s - loss: 0.0787 - accuracy: 0.9785\n",
      "Epoch 00011: val_loss did not improve from 0.12932\n",
      "268/268 [==============================] - 173s 644ms/step - loss: 0.0787 - accuracy: 0.9785 - val_loss: 0.1453 - val_accuracy: 0.9848\n",
      "Epoch 12/25\n",
      "268/268 [==============================] - ETA: 0s - loss: 0.0747 - accuracy: 0.9777\n",
      "Epoch 00012: val_loss improved from 0.12932 to 0.12147, saving model to ./rottenvs fresh.h5\n",
      "268/268 [==============================] - 158s 588ms/step - loss: 0.0747 - accuracy: 0.9777 - val_loss: 0.1215 - val_accuracy: 0.9858\n",
      "Epoch 13/25\n",
      "268/268 [==============================] - ETA: 0s - loss: 0.0537 - accuracy: 0.9818\n",
      "Epoch 00013: val_loss did not improve from 0.12147\n",
      "268/268 [==============================] - 162s 604ms/step - loss: 0.0537 - accuracy: 0.9818 - val_loss: 0.2188 - val_accuracy: 0.9863\n",
      "Epoch 14/25\n",
      "268/268 [==============================] - ETA: 0s - loss: 0.0600 - accuracy: 0.9794\n",
      "Epoch 00014: val_loss did not improve from 0.12147\n",
      "268/268 [==============================] - 177s 661ms/step - loss: 0.0600 - accuracy: 0.9794 - val_loss: 0.2820 - val_accuracy: 0.9792\n",
      "Epoch 15/25\n",
      "268/268 [==============================] - ETA: 0s - loss: 0.1853 - accuracy: 0.9588\n",
      "Epoch 00015: val_loss did not improve from 0.12147\n",
      "268/268 [==============================] - 176s 658ms/step - loss: 0.1853 - accuracy: 0.9588 - val_loss: 0.4487 - val_accuracy: 0.9230\n",
      "Epoch 16/25\n",
      "268/268 [==============================] - ETA: 0s - loss: 0.0772 - accuracy: 0.9781\n",
      "Epoch 00016: val_loss did not improve from 0.12147\n",
      "268/268 [==============================] - 187s 696ms/step - loss: 0.0772 - accuracy: 0.9781 - val_loss: 0.1451 - val_accuracy: 0.9873\n",
      "Epoch 17/25\n",
      "268/268 [==============================] - ETA: 0s - loss: 0.0413 - accuracy: 0.9845\n",
      "Epoch 00017: val_loss did not improve from 0.12147\n",
      "268/268 [==============================] - 181s 676ms/step - loss: 0.0413 - accuracy: 0.9845 - val_loss: 0.1314 - val_accuracy: 0.9868\n",
      "Epoch 18/25\n",
      "268/268 [==============================] - ETA: 0s - loss: 0.0423 - accuracy: 0.9858\n",
      "Epoch 00018: val_loss improved from 0.12147 to 0.10451, saving model to ./rottenvs fresh.h5\n",
      "268/268 [==============================] - 189s 704ms/step - loss: 0.0423 - accuracy: 0.9858 - val_loss: 0.1045 - val_accuracy: 0.9899\n",
      "Epoch 19/25\n",
      "268/268 [==============================] - ETA: 0s - loss: 0.0446 - accuracy: 0.9862\n",
      "Epoch 00019: val_loss did not improve from 0.10451\n",
      "268/268 [==============================] - 165s 615ms/step - loss: 0.0446 - accuracy: 0.9862 - val_loss: 0.1515 - val_accuracy: 0.9894\n",
      "Epoch 20/25\n",
      "268/268 [==============================] - ETA: 0s - loss: 0.0346 - accuracy: 0.9891\n",
      "Epoch 00020: val_loss did not improve from 0.10451\n",
      "268/268 [==============================] - 160s 596ms/step - loss: 0.0346 - accuracy: 0.9891 - val_loss: 0.1826 - val_accuracy: 0.9792\n",
      "Epoch 21/25\n",
      "268/268 [==============================] - ETA: 0s - loss: 0.0822 - accuracy: 0.9764\n",
      "Epoch 00021: val_loss did not improve from 0.10451\n",
      "268/268 [==============================] - 160s 596ms/step - loss: 0.0822 - accuracy: 0.9764 - val_loss: 0.1327 - val_accuracy: 0.9929\n",
      "Epoch 22/25\n",
      "268/268 [==============================] - ETA: 0s - loss: 0.0532 - accuracy: 0.9835\n",
      "Epoch 00022: val_loss did not improve from 0.10451\n",
      "268/268 [==============================] - 161s 599ms/step - loss: 0.0532 - accuracy: 0.9835 - val_loss: 0.1046 - val_accuracy: 0.9884\n",
      "Epoch 23/25\n",
      "268/268 [==============================] - ETA: 0s - loss: 0.0755 - accuracy: 0.9751\n",
      "Epoch 00023: val_loss did not improve from 0.10451\n",
      "268/268 [==============================] - 161s 602ms/step - loss: 0.0755 - accuracy: 0.9751 - val_loss: 0.1706 - val_accuracy: 0.9757\n",
      "Epoch 24/25\n",
      "268/268 [==============================] - ETA: 0s - loss: 0.0373 - accuracy: 0.9875\n",
      "Epoch 00024: val_loss improved from 0.10451 to 0.10261, saving model to ./rottenvs fresh.h5\n",
      "268/268 [==============================] - 161s 601ms/step - loss: 0.0373 - accuracy: 0.9875 - val_loss: 0.1026 - val_accuracy: 0.9959\n",
      "Epoch 25/25\n",
      "268/268 [==============================] - ETA: 0s - loss: 0.0276 - accuracy: 0.9888\n",
      "Epoch 00025: val_loss did not improve from 0.10261\n",
      "268/268 [==============================] - 161s 600ms/step - loss: 0.0276 - accuracy: 0.9888 - val_loss: 0.1406 - val_accuracy: 0.9833\n"
     ]
    }
   ],
   "source": [
    "X=X/255.0\n",
    "X_val=X_val/255.0\n",
    "\n",
    "history=model.fit(X,Y,batch_size=20,validation_data=(X_val,Y_val),epochs= 25,\n",
    "                 callbacks=[check_point])"
   ]
  },
  {
   "cell_type": "code",
   "execution_count": 15,
   "metadata": {},
   "outputs": [
    {
     "data": {
      "text/plain": [
       "<matplotlib.legend.Legend at 0x13ddd2e80>"
      ]
     },
     "execution_count": 15,
     "metadata": {},
     "output_type": "execute_result"
    },
    {
     "data": {
      "image/png": "[encoded data removed]",
      "text/plain": [
       "<Figure size 1440x864 with 2 Axes>"
      ]
     },
     "metadata": {
      "needs_background": "light"
     },
     "output_type": "display_data"
    }
   ],
   "source": [
    "plt.figure(1, figsize = (20, 12))\n",
    "plt.subplot(1,2,1)\n",
    "plt.xlabel(\"Épocas\")\n",
    "plt.ylabel(\"Perda\")\n",
    "plt.plot( history.history[\"loss\"], label = \"Perda de Treino\")\n",
    "plt.plot( history.history[\"val_loss\"], label = \"Perda de Validação\")\n",
    "plt.grid(True)\n",
    "plt.legend()\n",
    "\n",
    "plt.subplot(1,2,2)\n",
    "plt.xlabel(\"Épocas\")\n",
    "plt.ylabel(\"Acurácia\")\n",
    "plt.plot( history.history[\"accuracy\"], label = \"Acurácia de Treino\")\n",
    "plt.plot( history.history[\"val_accuracy\"], label = \"Acurácia de Validação\")\n",
    "plt.grid(True)\n",
    "plt.legend()"
   ]
  },
  {
   "cell_type": "markdown",
   "metadata": {},
   "source": [
    "Abaixo vemos uma avaliação do modelo e sua acurácia, esta resultando em 99.19% de precisão e perda de 0.0918"
   ]
  },
  {
   "cell_type": "code",
   "execution_count": 16,
   "metadata": {},
   "outputs": [
    {
     "name": "stdout",
     "output_type": "stream",
     "text": [
      "62/62 [==============================] - 13s 206ms/step - loss: 0.1406 - accuracy: 0.9833\n"
     ]
    },
    {
     "data": {
      "text/plain": [
       "[0.14055030047893524, 0.9832911491394043]"
      ]
     },
     "execution_count": 16,
     "metadata": {},
     "output_type": "execute_result"
    }
   ],
   "source": [
    "model.evaluate(X_val,Y_val)"
   ]
  },
  {
   "cell_type": "markdown",
   "metadata": {},
   "source": [
    "Feito a avaliação do modelo, que resultou em margens aceitáveis, salvamos o modelo em formato *.h5 para uso na API que integrará a máquina."
   ]
  },
  {
   "cell_type": "code",
   "execution_count": 17,
   "metadata": {},
   "outputs": [],
   "source": [
    "model.save('./rottenvsfresh.h5')"
   ]
  },
  {
   "cell_type": "markdown",
   "metadata": {},
   "source": [
    "Abaixo validamos a integridade do arquivo salvo"
   ]
  },
  {
   "cell_type": "code",
   "execution_count": 18,
   "metadata": {},
   "outputs": [
    {
     "name": "stdout",
     "output_type": "stream",
     "text": [
      "62/62 [==============================] - 12s 187ms/step - loss: 0.1406 - accuracy: 0.2051\n"
     ]
    },
    {
     "data": {
      "text/plain": [
       "[0.14055030047893524, 0.20506329834461212]"
      ]
     },
     "execution_count": 18,
     "metadata": {},
     "output_type": "execute_result"
    }
   ],
   "source": [
    "new_model=load_model('./rottenvsfresh.h5')\n",
    "new_model.evaluate(X_val,Y_val)"
   ]
  },
  {
   "cell_type": "code",
   "execution_count": 19,
   "metadata": {},
   "outputs": [],
   "source": [
    "### Testando com imagem aleatória"
   ]
  },
  {
   "cell_type": "code",
   "execution_count": 21,
   "metadata": {},
   "outputs": [
    {
     "name": "stdout",
     "output_type": "stream",
     "text": [
      "Laranja ruim\n",
      "1\n"
     ]
    }
   ],
   "source": [
    "I = []\n",
    "img=cv2.imread('./archive/dataset/testejp.jpeg')\n",
    "img=cv2.resize(img,(100,100))\n",
    "img=cv2.cvtColor(img,cv2.COLOR_BGR2RGB)\n",
    "I.append(img)\n",
    "NP_ARRAY = np.array(I)\n",
    "X_VAL = NP_ARRAY/255.0\n",
    "R = model.predict_classes(X_VAL)\n",
    "\n",
    "if(R[0]==0):\n",
    "    print('Laranja boa, sem manchas')\n",
    "if(R[0]==1):\n",
    "    print('Laranja ruim')\n",
    "if(R[0]==2):\n",
    "    print('Laranja boa, mas com manchas')\n",
    "print(R[0])"
   ]
  },
  {
   "cell_type": "code",
   "execution_count": null,
   "metadata": {},
   "outputs": [],
   "source": []
  },
  {
   "cell_type": "code",
   "execution_count": null,
   "metadata": {},
   "outputs": [],
   "source": []
  }
 ],
 "metadata": {
  "kernelspec": {
   "display_name": "Python 3",
   "language": "python",
   "name": "python3"
  },
  "language_info": {
   "codemirror_mode": {
    "name": "ipython",
    "version": 3
   },
   "file_extension": ".py",
   "mimetype": "text/x-python",
   "name": "python",
   "nbconvert_exporter": "python",
   "pygments_lexer": "ipython3",
   "version": "3.8.5"
  }
 },
 "nbformat": 4,
 "nbformat_minor": 4
}
